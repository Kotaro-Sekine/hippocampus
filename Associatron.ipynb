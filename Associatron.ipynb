{
 "cells": [
  {
   "cell_type": "code",
   "execution_count": 1,
   "metadata": {},
   "outputs": [],
   "source": [
    "import numpy as np\n",
    "class hebb:\n",
    "    memory = []\n",
    "    memory_size = 0\n",
    "    \n",
    "    def __init__(self, size):\n",
    "        self.memory_size = size\n",
    "        self.memory = np.reshape([0]*size**2, (size, size))\n",
    "        \n",
    "    def learn(self, activity):\n",
    "        if self.memory_size != len(activity):\n",
    "            return False\n",
    "\n",
    "        for y in range(self.memory_size):\n",
    "            for x in range(self.memory_size):\n",
    "                if x == y:\n",
    "                    self.memory[x,y] = 0\n",
    "                elif activity[x] == 1 and activity[y] == 1:\n",
    "                    self.memory[x,y] += 1\n",
    "                elif activity[x] == -1 and activity[y] == -1:\n",
    "                    pass  #このケースはpassでなく+1とすることも多々(今回は神経回路のモデル化を意識してpassにした)\n",
    "                else:\n",
    "                    self.memory[x,y] -= 1\n",
    "        #print(self.memory)#途中経過表示\n",
    "        return True\n",
    "\n",
    "    def remember(self, activity):\n",
    "        if self.memory_size != len(activity):\n",
    "            return False\n",
    "\n",
    "        activity = np.reshape(activity, (self.memory_size, 1))\n",
    "        reminder = np.dot(self.memory,activity)\n",
    "        #print(reminder)#途中経過表示\n",
    "        return np.reshape(reminder / abs(reminder), (1, self.memory_size)).flatten()"
   ]
  },
  {
   "cell_type": "code",
   "execution_count": 2,
   "metadata": {},
   "outputs": [
    {
     "name": "stdout",
     "output_type": "stream",
     "text": [
      "Counts\n"
     ]
    },
    {
     "name": "stdin",
     "output_type": "stream",
     "text": [
      " 5\n"
     ]
    },
    {
     "name": "stdout",
     "output_type": "stream",
     "text": [
      "0=learn,1=remember\n"
     ]
    },
    {
     "name": "stdin",
     "output_type": "stream",
     "text": [
      " 0\n",
      " 1 1 -1\n"
     ]
    },
    {
     "name": "stdout",
     "output_type": "stream",
     "text": [
      "I learn [1, 1, -1]\n",
      "0=learn,1=remember\n"
     ]
    },
    {
     "name": "stdin",
     "output_type": "stream",
     "text": [
      " 0\n",
      " 1 1 -1\n"
     ]
    },
    {
     "name": "stdout",
     "output_type": "stream",
     "text": [
      "I learn [1, 1, -1]\n",
      "0=learn,1=remember\n"
     ]
    },
    {
     "name": "stdin",
     "output_type": "stream",
     "text": [
      " 1\n",
      " 1 1 0\n"
     ]
    },
    {
     "name": "stdout",
     "output_type": "stream",
     "text": [
      "Question: [1, 1, 0] Answer: [ 1.  1. -1.]\n",
      "0=learn,1=remember\n"
     ]
    },
    {
     "name": "stdin",
     "output_type": "stream",
     "text": [
      " 0\n",
      " 1 1 1\n"
     ]
    },
    {
     "name": "stdout",
     "output_type": "stream",
     "text": [
      "I learn [1, 1, 1]\n",
      "0=learn,1=remember\n"
     ]
    },
    {
     "name": "stdin",
     "output_type": "stream",
     "text": [
      " 1\n",
      " 1 1 -1\n"
     ]
    },
    {
     "name": "stdout",
     "output_type": "stream",
     "text": [
      "Question: [1, 1, -1] Answer: [ 1.  1. -1.]\n"
     ]
    }
   ],
   "source": [
    "def learn(m):\n",
    "    if h.learn(m):\n",
    "        print(\"I learn\",m)\n",
    "    else:\n",
    "        print(\"I can't learn\",m)\n",
    "\n",
    "def remember(question):\n",
    "    answer = h.remember(question)\n",
    "    if any(answer):\n",
    "        print(\"Question:\",question,\"Answer:\",answer)\n",
    "    else:\n",
    "        print(\"I can't remember\",question)\n",
    "\n",
    "h = hebb(3) #the number of neurons\n",
    "\n",
    "#########################\n",
    "print(\"Counts\")\n",
    "n=int(input()) #何回学習・思いだす作業を行うか The total number of tasks of \"learn\" and \"remember\"\n",
    "for i in range(n):\n",
    "    print(\"0=learn,1=remember\")\n",
    "    a=int(input()) #0=learn,1=remember\n",
    "    if a==0:\n",
    "        b=list(map(int,input().split()))\n",
    "        learn(b)\n",
    "    else:\n",
    "        b=list(map(int,input().split()))\n",
    "        remember(b)\n",
    "#########################\n",
    "#重み行列,入力配列を事前決定する場合は上の##内をコメントアウトし,こっちを使う\n",
    "#If you don't want to use \"input\", you can use this.\n",
    "#learn([1,1,-1])\n",
    "#learn([1,1,-1])\n",
    "#learn([1,1,-1])\n",
    "#remember([1,1,-1])\n",
    "#remember([1,1,0])\n",
    "#learn([1,-1,1])\n",
    "#learn([1,-1,1])\n",
    "#remember([1,1,-1])\n",
    "#remember([1,-1,1])\n",
    "#########################"
   ]
  }
 ],
 "metadata": {
  "kernelspec": {
   "display_name": "Python 3",
   "language": "python",
   "name": "python3"
  },
  "language_info": {
   "codemirror_mode": {
    "name": "ipython",
    "version": 3
   },
   "file_extension": ".py",
   "mimetype": "text/x-python",
   "name": "python",
   "nbconvert_exporter": "python",
   "pygments_lexer": "ipython3",
   "version": "3.7.1"
  }
 },
 "nbformat": 4,
 "nbformat_minor": 2
}
