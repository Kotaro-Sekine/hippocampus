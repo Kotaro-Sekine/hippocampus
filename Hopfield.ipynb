{
 "cells": [
  {
   "cell_type": "code",
   "execution_count": 15,
   "metadata": {},
   "outputs": [],
   "source": [
    "# -*- coding: utf-8 -*-\n",
    "from __future__ import unicode_literals, division\n",
    "\n",
    "import numpy as np\n",
    "np.random.seed(1)\n",
    "from matplotlib import pyplot as plt\n",
    "import matplotlib.cm as cm\n",
    "\n",
    "\n",
    "class HopfieldNetwork(object):\n",
    "    threshold = 0\n",
    "\n",
    "    def fit(self, train_list):\n",
    "        \"\"\"\n",
    "        初期化: 学習データから重み行列を初期化\n",
    "        \"\"\"\n",
    "        self.dim = len(train_list[0])\n",
    "\n",
    "        n = len(train_list)\n",
    "        self.W = np.zeros((self.dim, self.dim))\n",
    "        rho = np.sum([np.sum(t) for t in train_list]) / (n * self.dim)\n",
    "        for m in range(n):\n",
    "            # データ全体の平均値にあわせてシフト\n",
    "            t = train_list[m] - rho\n",
    "            self.W += np.outer(t, t)\n",
    "        for i in range(self.dim):\n",
    "            self.W[i, i] = 0\n",
    "        self.W /= n\n",
    "\n",
    "    def predict(self, data, threshold=0, loop=10):\n",
    "        \"\"\"\n",
    "        更新: 入力値のリストに対し、出力値のリストを返す\n",
    "        \"\"\"\n",
    "        self.threshold = threshold\n",
    "        return [self._predict(d, loop=loop) for d in data]\n",
    "\n",
    "    def _predict(self, xr, loop=10):\n",
    "        \"\"\"\n",
    "        個々の入力値に対し、ユニットの値が収束するまで =\n",
    "        エネルギーが変化しなくなるまで更新を行う\n",
    "        \"\"\"\n",
    "        e = self.energy(xr)\n",
    "        for i in range(loop):\n",
    "            xr = self.W.dot(xr) - self.threshold\n",
    "            # xr の符号をとる\n",
    "            xr = np.sign(xr)\n",
    "            e_new = self.energy(xr)\n",
    "            if e == e_new:\n",
    "                return xr\n",
    "            e = e_new\n",
    "        return xr\n",
    "\n",
    "    def energy(self, xr):\n",
    "        \"\"\"\n",
    "        ユニットの状態からネットワークのエネルギーを計算\n",
    "        \"\"\"\n",
    "        return - xr.dot(self.W).dot(xr) + np.sum(xr * self.threshold)\n",
    "\n",
    "    def plot_weight(self):\n",
    "        \"\"\"\n",
    "        重み行列をヒートマップとしてプロット\n",
    "        \"\"\"\n",
    "        fig, ax = plt.subplots(figsize=(5, 3))\n",
    "        heatmap = ax.pcolor(self.W, cmap=cm.coolwarm)\n",
    "        cbar = plt.colorbar(heatmap)\n",
    "\n",
    "        ax.set_xlim(0, self.dim)\n",
    "        ax.set_ylim(0, self.dim)\n",
    "        ax.invert_yaxis()\n",
    "        ax.xaxis.tick_top()\n",
    "        return fig, ax\n",
    "\n",
    "    def plot_data(self, ax, data, with_energy=False):\n",
    "        \"\"\"\n",
    "        data を画像化 (2次元化) して ax にプロット\n",
    "        \"\"\"\n",
    "        dim = int(np.sqrt(len(data)))\n",
    "        # このサンプルで扱う画像は縦横 同じ長さのもののみ\n",
    "        assert dim * dim == len(data)\n",
    "\n",
    "        img = (data.reshape(dim, dim) + 1) / 2\n",
    "        ax.imshow(img, cmap=cm.Greys_r, interpolation='nearest')\n",
    "        if with_energy:\n",
    "            e = np.round(self.energy(data), 1)\n",
    "            ax.text(0.95, 0.05, e, color='r', ha='right',\n",
    "                    transform=ax.transAxes)\n",
    "        return ax\n",
    "\n",
    "\n",
    "# ユーティリティ関数\n",
    "\n",
    "def get_corrupted_input(input, corruption_level):\n",
    "    \"\"\"\n",
    "    入力にノイズを付与\n",
    "    \"\"\"\n",
    "    corrupted = np.copy(input)\n",
    "    inv = np.random.binomial(n=1, p=corruption_level, size=len(input))\n",
    "    for i, v in enumerate(input):\n",
    "        if inv[i]:\n",
    "            corrupted[i] = -1 * v\n",
    "    return corrupted\n",
    "\n",
    "def plot(hn, data, test, predicted, figsize=(5, 7)):\n",
    "    \"\"\"\n",
    "    元データ、テストデータ、推測値を描画\n",
    "    \"\"\"\n",
    "    fig, axes = plt.subplots(len(data), 3, figsize=figsize)\n",
    "    for i, axrow in enumerate(axes):\n",
    "        if i == 0:\n",
    "            axrow[0].set_title('学習データ')\n",
    "            axrow[1].set_title('入力データ')\n",
    "            axrow[2].set_title('出力データ')\n",
    "        hn.plot_data(axrow[0], data[i])\n",
    "        hn.plot_data(axrow[1], test[i], with_energy=True)\n",
    "        hn.plot_data(axrow[2], predicted[i], with_energy=True)\n",
    "\n",
    "        for ax in axrow:\n",
    "            ax.xaxis.set_visible(False)\n",
    "            ax.yaxis.set_visible(False)\n",
    "    return fig, axes"
   ]
  },
  {
   "cell_type": "code",
   "execution_count": 16,
   "metadata": {},
   "outputs": [
    {
     "data": {
      "text/plain": [
       "(<Figure size 360x360 with 9 Axes>,\n",
       " array([[<matplotlib.axes._subplots.AxesSubplot object at 0x1a1a349160>,\n",
       "         <matplotlib.axes._subplots.AxesSubplot object at 0x1a1a43e080>,\n",
       "         <matplotlib.axes._subplots.AxesSubplot object at 0x1a1a47a5f8>],\n",
       "        [<matplotlib.axes._subplots.AxesSubplot object at 0x1a1a4a1b70>,\n",
       "         <matplotlib.axes._subplots.AxesSubplot object at 0x1a1a4d3128>,\n",
       "         <matplotlib.axes._subplots.AxesSubplot object at 0x1a1a4fa6a0>],\n",
       "        [<matplotlib.axes._subplots.AxesSubplot object at 0x1a1a520c18>,\n",
       "         <matplotlib.axes._subplots.AxesSubplot object at 0x1a1a553198>,\n",
       "         <matplotlib.axes._subplots.AxesSubplot object at 0x1a1a578748>]],\n",
       "       dtype=object))"
      ]
     },
     "execution_count": 16,
     "metadata": {},
     "output_type": "execute_result"
    },
    {
     "data": {
      "image/png": "[encoded data removed]",
      "text/plain": [
       "<Figure size 360x360 with 9 Axes>"
      ]
     },
     "metadata": {
      "needs_background": "light"
     },
     "output_type": "display_data"
    }
   ],
   "source": [
    "data = [np.array([0, 0, 1, 0, 0, 0, 1, 0, 1, 0, 0, 1, 0, 1, 0,\n",
    "                  0, 1, 1, 1, 0, 0, 1, 0, 1, 0]),\n",
    "        np.array([1, 1, 1, 0, 0, 1, 0, 0, 1, 0, 1, 1, 1, 0, 0,\n",
    "                  1, 0, 0, 1, 0, 1, 1, 1, 0, 0]),\n",
    "        np.array([0, 1, 1, 1, 0, 1, 0, 0, 0, 0, 1, 0, 0, 0, 0,\n",
    "                  1, 0, 0, 0, 0, 0, 1, 1, 1, 0])]\n",
    "data = [d * 2 - 1 for d in data]\n",
    "\n",
    "# Hopfield Network インスタンスの作成 & 学習\n",
    "hn = HopfieldNetwork()\n",
    "hn.fit(data)\n",
    "\n",
    "# 画像に 10% のノイズを付与し、テストデータとする\n",
    "test = [get_corrupted_input(d, 0.1) for d in data]\n",
    "# Hopfield Network からの出力\n",
    "predicted = hn.predict(test)\n",
    "\n",
    "plot(hn, data, test, predicted, figsize=(5, 5))"
   ]
  },
  {
   "cell_type": "code",
   "execution_count": 17,
   "metadata": {},
   "outputs": [
    {
     "data": {
      "text/plain": [
       "(<Figure size 360x216 with 2 Axes>,\n",
       " <matplotlib.axes._subplots.AxesSubplot at 0x1a1a61e160>)"
      ]
     },
     "execution_count": 17,
     "metadata": {},
     "output_type": "execute_result"
    },
    {
     "data": {
      "image/png": "[encoded data removed]",
      "text/plain": [
       "<Figure size 360x216 with 2 Axes>"
      ]
     },
     "metadata": {
      "needs_background": "light"
     },
     "output_type": "display_data"
    }
   ],
   "source": [
    "hn.plot_weight()"
   ]
  },
  {
   "cell_type": "code",
   "execution_count": null,
   "metadata": {},
   "outputs": [],
   "source": [
    "def preprocessing(input):\n",
    "    \"\"\"\n",
    "    画像を2値 {-1, 1} に変換\n",
    "    \"\"\"\n",
    "    input = (input >= np.max(input) / 2).astype(int)\n",
    "    return input * 2 - 1\n",
    "\n",
    "# MNIST データをダウンロード / ロード\n",
    "from sklearn.datasets import fetch_mldata\n",
    "mnist = fetch_mldata('MNIST original', data_home=\".\") \n",
    "\n",
    "# 5件 データを取得\n",
    "data = mnist.data[[0, 7000, 14000, 21000, 28000, 35000]]\n",
    "data = [preprocessing(d) for d in data]\n",
    "\n",
    "hn = HopfieldNetwork()\n",
    "hn.fit(data)\n",
    "\n",
    "test = [get_corrupted_input(d, 0.1) for d in data]\n",
    "\n",
    "for i in range(0, 80):\n",
    "    predicted = hn.predict(test, threshold=i)\n",
    "    fig, axes = plot(hn, data, test, predicted)\n",
    "    fig.suptitle('閾値 {0:.2f}'.format(i))\n",
    "    plt.savefig('mnist_bias_{0}.png'.format(i))"
   ]
  },
  {
   "cell_type": "code",
   "execution_count": 2,
   "metadata": {},
   "outputs": [
    {
     "name": "stdout",
     "output_type": "stream",
     "text": [
      "[[5 7]\n",
      " [7 2]\n",
      " [2 4]]\n",
      "[[0 3 4]\n",
      " [3 0 6]]\n",
      "[[21 15 62]\n",
      " [ 6 21 40]\n",
      " [12  6 32]]\n"
     ]
    }
   ],
   "source": [
    "\n",
    "a = np.random.randint(0, 9, (3, 2))\n",
    "b = np.random.randint(0, 9, (2, 3))\n",
    "print(a)\n",
    "print(b)\n",
    "print(np.dot(a, b))\n"
   ]
  },
  {
   "cell_type": "code",
   "execution_count": 14,
   "metadata": {},
   "outputs": [
    {
     "name": "stdout",
     "output_type": "stream",
     "text": [
      "0.0\n"
     ]
    }
   ],
   "source": [
    "a=np.ones(4)\n",
    "b=np.array([1,1,1,1])\n",
    "d=a-b\n",
    "print(d[2])"
   ]
  },
  {
   "cell_type": "code",
   "execution_count": 11,
   "metadata": {},
   "outputs": [
    {
     "ename": "ValueError",
     "evalue": "The truth value of an array with more than one element is ambiguous. Use a.any() or a.all()",
     "output_type": "error",
     "traceback": [
      "\u001b[0;31m---------------------------------------------------------------------------\u001b[0m",
      "\u001b[0;31mValueError\u001b[0m                                Traceback (most recent call last)",
      "\u001b[0;32m<ipython-input-11-1ed2eaea1721>\u001b[0m in \u001b[0;36m<module>\u001b[0;34m\u001b[0m\n\u001b[1;32m      1\u001b[0m \u001b[0mc\u001b[0m\u001b[0;34m=\u001b[0m\u001b[0mnp\u001b[0m\u001b[0;34m.\u001b[0m\u001b[0mones\u001b[0m\u001b[0;34m(\u001b[0m\u001b[0;36m4\u001b[0m\u001b[0;34m)\u001b[0m\u001b[0;34m\u001b[0m\u001b[0;34m\u001b[0m\u001b[0m\n\u001b[0;32m----> 2\u001b[0;31m \u001b[0;32mif\u001b[0m \u001b[0mc\u001b[0m\u001b[0;34m==\u001b[0m\u001b[0md\u001b[0m\u001b[0;34m:\u001b[0m\u001b[0;34m\u001b[0m\u001b[0;34m\u001b[0m\u001b[0m\n\u001b[0m\u001b[1;32m      3\u001b[0m     \u001b[0mprint\u001b[0m\u001b[0;34m(\u001b[0m\u001b[0mc\u001b[0m\u001b[0;34m)\u001b[0m\u001b[0;34m\u001b[0m\u001b[0;34m\u001b[0m\u001b[0m\n\u001b[1;32m      4\u001b[0m \u001b[0;32melse\u001b[0m\u001b[0;34m:\u001b[0m\u001b[0;34m\u001b[0m\u001b[0;34m\u001b[0m\u001b[0m\n\u001b[1;32m      5\u001b[0m     \u001b[0mprint\u001b[0m\u001b[0;34m(\u001b[0m\u001b[0;34m\"n\"\u001b[0m\u001b[0;34m)\u001b[0m\u001b[0;34m\u001b[0m\u001b[0;34m\u001b[0m\u001b[0m\n",
      "\u001b[0;31mValueError\u001b[0m: The truth value of an array with more than one element is ambiguous. Use a.any() or a.all()"
     ]
    }
   ],
   "source": []
  },
  {
   "cell_type": "code",
   "execution_count": null,
   "metadata": {},
   "outputs": [],
   "source": []
  }
 ],
 "metadata": {
  "kernelspec": {
   "display_name": "Python 3",
   "language": "python",
   "name": "python3"
  },
  "language_info": {
   "codemirror_mode": {
    "name": "ipython",
    "version": 3
   },
   "file_extension": ".py",
   "mimetype": "text/x-python",
   "name": "python",
   "nbconvert_exporter": "python",
   "pygments_lexer": "ipython3",
   "version": "3.7.1"
  }
 },
 "nbformat": 4,
 "nbformat_minor": 2
}
