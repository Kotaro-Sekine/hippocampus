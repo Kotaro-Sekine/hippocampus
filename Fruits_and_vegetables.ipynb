{
 "cells": [
  {
   "cell_type": "code",
   "execution_count": 1,
   "metadata": {},
   "outputs": [],
   "source": [
    "import numpy as np\n",
    "class hebb:\n",
    "    memory = []\n",
    "    memory_size = 0\n",
    "    \n",
    "    def __init__(self, size):\n",
    "        self.memory_size = size\n",
    "        self.memory = np.reshape([0]*size**2, (size, size))\n",
    "        \n",
    "    def learn(self, activity):\n",
    "        if self.memory_size != len(activity):\n",
    "            return False\n",
    "\n",
    "        for y in range(self.memory_size):\n",
    "            for x in range(self.memory_size):\n",
    "                if x == y:\n",
    "                    self.memory[x,y] = 0\n",
    "                elif activity[x] == 1 and activity[y] == 1:\n",
    "                    self.memory[x,y] += 1\n",
    "                elif activity[x] == -1 and activity[y] == -1:\n",
    "                    pass  #このケースはpassでなく+1とすることも多々(今回は神経回路のモデル化を意識してpassにした)\n",
    "                else:\n",
    "                    self.memory[x,y] -= 1\n",
    "        #print(self.memory)#途中経過表示\n",
    "        return True\n",
    "\n",
    "    def remember(self, activity):\n",
    "        if self.memory_size != len(activity):\n",
    "            return False\n",
    "        \n",
    "        activity = np.reshape(activity, (self.memory_size, 1))\n",
    "        reminder = np.dot(self.memory,activity)\n",
    "        #print(reminder) #途中経過\n",
    "######################閾値設定(option)#########################################\n",
    "        #for i in range(self.memory_size):\n",
    "         #   if reminder[i]>3:\n",
    "          #      pass\n",
    "           # else: #閾値を下回ったら負に(活性なしと判断)\n",
    "            #    reminder[i]=-abs(reminder[i]\n",
    "######################################################################\n",
    "        reminder2 = np.reshape(reminder / abs(reminder), (1, self.memory_size)).flatten()\n",
    "        reminder2[np.isnan(reminder2)] = -1\n",
    "        reminder3 = [int(s) for s in reminder2]\n",
    "        return reminder3"
   ]
  },
  {
   "cell_type": "code",
   "execution_count": 2,
   "metadata": {},
   "outputs": [
    {
     "name": "stdout",
     "output_type": "stream",
     "text": [
      "Counts\n"
     ]
    },
    {
     "name": "stdin",
     "output_type": "stream",
     "text": [
      " 6\n"
     ]
    },
    {
     "name": "stdout",
     "output_type": "stream",
     "text": [
      "0=learn,1=remember\n"
     ]
    },
    {
     "name": "stdin",
     "output_type": "stream",
     "text": [
      " 0\n",
      " apple\n"
     ]
    },
    {
     "name": "stdout",
     "output_type": "stream",
     "text": [
      "I learn [1, -1, 1, -1]\n",
      "0=learn,1=remember\n"
     ]
    },
    {
     "name": "stdin",
     "output_type": "stream",
     "text": [
      " 0\n",
      " apple\n"
     ]
    },
    {
     "name": "stdout",
     "output_type": "stream",
     "text": [
      "I learn [1, -1, 1, -1]\n",
      "0=learn,1=remember\n"
     ]
    },
    {
     "name": "stdin",
     "output_type": "stream",
     "text": [
      " 0\n",
      " tomato\n"
     ]
    },
    {
     "name": "stdout",
     "output_type": "stream",
     "text": [
      "I learn [1, -1, -1, 1]\n",
      "0=learn,1=remember\n"
     ]
    },
    {
     "name": "stdin",
     "output_type": "stream",
     "text": [
      " 0\n",
      " apple\n"
     ]
    },
    {
     "name": "stdout",
     "output_type": "stream",
     "text": [
      "I learn [1, -1, 1, -1]\n",
      "0=learn,1=remember\n"
     ]
    },
    {
     "name": "stdin",
     "output_type": "stream",
     "text": [
      " 1\n",
      " red\n"
     ]
    },
    {
     "name": "stdout",
     "output_type": "stream",
     "text": [
      "apple\n",
      "0=learn,1=remember\n"
     ]
    },
    {
     "name": "stdin",
     "output_type": "stream",
     "text": [
      " 1\n",
      " yellow\n"
     ]
    },
    {
     "name": "stdout",
     "output_type": "stream",
     "text": [
      "I can not answer\n"
     ]
    }
   ],
   "source": [
    "def learn(m):\n",
    "    if h.learn(m):\n",
    "        print(\"I learn\",m)\n",
    "    else:\n",
    "        print(\"I can't learn\",m)\n",
    "\n",
    "def remember(question):\n",
    "    answer = h.remember(question)\n",
    "    if any(answer):\n",
    "        if answer==[1,-1,1,-1]:\n",
    "            print(\"apple\")\n",
    "        elif answer==[1,-1,-1,1]:\n",
    "            print(\"tomato\")\n",
    "        elif answer==[-1,1,1,-1]:\n",
    "            print(\"banana\")\n",
    "        else:\n",
    "            print(\"I can not answer\")\n",
    "    else:\n",
    "        print(\"I can not answer\")\n",
    "##activity[0]=red,[1]=yellow,[2]=fruit,[3]=vegetable##\n",
    "def keyword(k):\n",
    "    if k==\"apple\":\n",
    "        return [1,-1,1,-1]\n",
    "    elif k==\"tomato\":\n",
    "        return [1,-1,-1,1]\n",
    "    elif k==\"banana\":\n",
    "        return [-1,1,1,-1]\n",
    "    elif k==\"red\":#個々の数値は要検討\n",
    "        return [1,-1,0,0]\n",
    "    elif k==\"yellow\":\n",
    "        return [-1,1,0,0]\n",
    "    elif k==\"fruit\":\n",
    "        return [0,0,1,-1]\n",
    "    elif k==\"vegetable\":\n",
    "        return [0,0,-1,1]\n",
    "    else:\n",
    "        print(\"I can not remember this\")\n",
    "\n",
    "h = hebb(4) #the number of neurons\n",
    "\n",
    "#########################\n",
    "print(\"Counts\")\n",
    "n=int(input()) #何回学習・思いだす作業を行うか The total number of tasks of \"learn\" and \"remember\"\n",
    "for i in range(n):\n",
    "    print(\"0=learn,1=remember\")\n",
    "    a=int(input()) #0=learn,1=remember\n",
    "    if a==0:\n",
    "        b=input() #input fruits/vegetables\n",
    "        if b==\"apple\" or \"tomato\" or \"banana\":\n",
    "            learn(keyword(b))\n",
    "        else:\n",
    "            print(\"I can not remeber this\")\n",
    "    else:\n",
    "        b=input()  #input keyword\n",
    "        remember(keyword(b))\n",
    "#########################\n",
    "#重み行列,入力配列を事前決定する場合は上の##内をコメントアウトし,こっちを使う\n",
    "#If you don't want to use \"input\", you can use this.\n",
    "#learn(keyword(\"apple\"))\n",
    "#learn(keyword(\"apple\"))\n",
    "#learn(keyword(\"tomato\"))\n",
    "#learn(keyword(\"apple\"))\n",
    "#remember(keyword(\"red\"))\n",
    "#remember(keyword(\"yellow\"))\n",
    "#########################"
   ]
  },
  {
   "cell_type": "code",
   "execution_count": null,
   "metadata": {},
   "outputs": [],
   "source": []
  }
 ],
 "metadata": {
  "kernelspec": {
   "display_name": "Python 3",
   "language": "python",
   "name": "python3"
  },
  "language_info": {
   "codemirror_mode": {
    "name": "ipython",
    "version": 3
   },
   "file_extension": ".py",
   "mimetype": "text/x-python",
   "name": "python",
   "nbconvert_exporter": "python",
   "pygments_lexer": "ipython3",
   "version": "3.7.1"
  }
 },
 "nbformat": 4,
 "nbformat_minor": 2
}
